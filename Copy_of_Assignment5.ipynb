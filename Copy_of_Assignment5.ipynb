{
  "cells": [
    {
      "cell_type": "code",
      "execution_count": 18,
      "metadata": {
        "id": "vKaSofEz2CPl",
        "scrolled": true,
        "colab": {
          "base_uri": "https://localhost:8080/"
        },
        "outputId": "13f0f191-3245-459f-d812-b204e6583a7a"
      },
      "outputs": [
        {
          "output_type": "stream",
          "name": "stdout",
          "text": [
            "Cloning into 'DS-Tech-2025January'...\n",
            "remote: Enumerating objects: 337, done.\u001b[K\n",
            "remote: Counting objects: 100% (16/16), done.\u001b[K\n",
            "remote: Compressing objects: 100% (10/10), done.\u001b[K\n",
            "remote: Total 337 (delta 6), reused 14 (delta 6), pack-reused 321 (from 1)\u001b[K\n",
            "Receiving objects: 100% (337/337), 97.09 MiB | 20.39 MiB/s, done.\n",
            "Resolving deltas: 100% (97/97), done.\n",
            "/content/DS-Tech-2025January/Assignments/DS-Tech-2025January/Assignments\n"
          ]
        }
      ],
      "source": [
        "#If opening in colab run this cell\n",
        "!git clone https://github.com/connordouglas10/DS-Tech-2025January.git\n",
        "%cd DS-Tech-2025January/Assignments"
      ]
    },
    {
      "cell_type": "markdown",
      "metadata": {
        "id": "IJGEq5z12CPn"
      },
      "source": [
        "# IF OPENING IN COLAB, REMEMBER TO SAVE THIS NOTEBOOK TO GOOGLE DRIVE!"
      ]
    },
    {
      "cell_type": "markdown",
      "metadata": {
        "id": "jvaRhyux2CPs"
      },
      "source": [
        "# Predicting Customer Complaints\n",
        "\n",
        "Our problem setting is similar that which we saw in class. You've been hired by Trans American Airlines (TAA) as a data science consultant. Your job is to identify customer service issues in tweets, so the issues can be directed to the customer experience team.\n",
        "\n",
        "We will be trying a variety of text representation techniques and modeling approaches to see which work the best."
      ]
    },
    {
      "cell_type": "code",
      "execution_count": 19,
      "metadata": {
        "id": "-1YZ4oPPQLKh"
      },
      "outputs": [],
      "source": [
        "# Import the libraries we will be using\n",
        "import numpy as np\n",
        "import pandas as pd\n",
        "from sklearn.linear_model import LogisticRegression\n",
        "from sklearn import metrics\n",
        "from sklearn.model_selection import train_test_split\n",
        "from sklearn.feature_extraction.text import CountVectorizer\n",
        "from sklearn.feature_extraction.text import TfidfVectorizer\n",
        "\n",
        "import matplotlib.pylab as plt\n",
        "%matplotlib inline"
      ]
    },
    {
      "cell_type": "markdown",
      "metadata": {
        "id": "_QxorapP2CPt"
      },
      "source": [
        "__1. Load the data. Print a portion of the DataFrame.__"
      ]
    },
    {
      "cell_type": "code",
      "execution_count": 20,
      "metadata": {
        "id": "fJnv3sWZ2CPt",
        "colab": {
          "base_uri": "https://localhost:8080/"
        },
        "outputId": "e48d6823-3504-433c-ebe0-f5a81c770a61"
      },
      "outputs": [
        {
          "output_type": "stream",
          "name": "stdout",
          "text": [
            "       tweet_id airline_sentiment  airline_sentiment_confidence  \\\n",
            "0  5.703060e+17           neutral                        1.0000   \n",
            "1  5.703010e+17          positive                        0.3486   \n",
            "2  5.703010e+17           neutral                        0.6837   \n",
            "3  5.703010e+17          negative                        1.0000   \n",
            "4  5.703010e+17          negative                        1.0000   \n",
            "\n",
            "  negativereason  negativereason_confidence        name  retweet_count  \\\n",
            "0            NaN                        NaN     cairdin              0   \n",
            "1            NaN                     0.0000    jnardino              0   \n",
            "2            NaN                        NaN  yvonnalynn              0   \n",
            "3     Bad Flight                     0.7033    jnardino              0   \n",
            "4     Can't Tell                     1.0000    jnardino              0   \n",
            "\n",
            "                                                text    tweet_created  \\\n",
            "0                          @TAA What @dhepburn said.  2/24/2015 11:35   \n",
            "1  @TAA plus you've added commercials to the expe...  2/24/2015 11:15   \n",
            "2  @TAA I didn't today... Must mean I need to tak...  2/24/2015 11:15   \n",
            "3  @TAA it's really aggressive to blast obnoxious...  2/24/2015 11:15   \n",
            "4      @TAA and it's a really big bad thing about it  2/24/2015 11:14   \n",
            "\n",
            "                user_timezone  \n",
            "0  Eastern Time (US & Canada)  \n",
            "1  Pacific Time (US & Canada)  \n",
            "2  Central Time (US & Canada)  \n",
            "3  Pacific Time (US & Canada)  \n",
            "4  Pacific Time (US & Canada)  \n"
          ]
        }
      ],
      "source": [
        "import numpy as np\n",
        "import pandas as pd\n",
        "\n",
        "# If necessary change the path below so that it points to your file.\n",
        "data_path = \"./data/data-hw4.csv\"\n",
        "\n",
        "df = pd.read_csv(data_path)\n",
        "\n",
        "# Your code here\n",
        "print(df.head())"
      ]
    },
    {
      "cell_type": "markdown",
      "metadata": {
        "id": "VyUrMmaKQLKi"
      },
      "source": [
        "__2. Define a binary target variable for \"Customer Service Issue\". Keep only this binary target variable and the text in the DataFrame. What portion of tweets are about a customer service issue?__"
      ]
    },
    {
      "cell_type": "code",
      "execution_count": 21,
      "metadata": {
        "id": "HVXy4_soQLKi"
      },
      "outputs": [],
      "source": [
        "# Your code goes here. this was my initial attempt\n",
        "#keywords = [\"change\", \"help\", \"support\", \"complaint\", \"service\", \"issue\", \"problem\", \"locked\"]\n",
        "#df[\"customer_service_issue\"] = df[\"text\"].str.contains('|'.join(keywords), case=False, na=False).astype(int)\n",
        "#df = df[[\"text\", \"customer_service_issue\"]]\n",
        "#proportion = df[\"customer_service_issue\"].mean()\n",
        "\n",
        "#print(df)\n",
        "#print(f\"Proportion of tweets about customer service issues: {proportion:.2%}\")"
      ]
    },
    {
      "cell_type": "code",
      "source": [
        "print(df['negativereason'].value_counts())\n",
        "df['is_customer_service_issue'] = (df['negativereason'] == \"Customer Service Issue\").astype(int)\n",
        "\n",
        "df = df[['text', 'is_customer_service_issue']]\n",
        "\n",
        "portion = df['is_customer_service_issue'].mean()\n",
        "print(f\"Portion of tweets about a customer service issue: {portion:.2%}\")"
      ],
      "metadata": {
        "colab": {
          "base_uri": "https://localhost:8080/"
        },
        "id": "KP_SrrK7gdnI",
        "outputId": "d098698c-cb22-4f71-aa8d-0661d0694de2"
      },
      "execution_count": 22,
      "outputs": [
        {
          "output_type": "stream",
          "name": "stdout",
          "text": [
            "negativereason\n",
            "Customer Service Issue         2910\n",
            "Late Flight                    1665\n",
            "Can't Tell                     1190\n",
            "Cancelled Flight                847\n",
            "Lost Luggage                    724\n",
            "Bad Flight                      580\n",
            "Flight Booking Problems         529\n",
            "Flight Attendant Complaints     481\n",
            "longlines                       178\n",
            "Damaged Luggage                  74\n",
            "Name: count, dtype: int64\n",
            "Portion of tweets about a customer service issue: 19.88%\n"
          ]
        }
      ]
    },
    {
      "cell_type": "markdown",
      "metadata": {
        "id": "HmcmkCD-2CPu"
      },
      "source": [
        "__3. To make things technically easier, we will not do cross-validation on this assignment. Instead, split the data into 80% training data, 20% test data. Then, split the train set into 80% sub-train, 20% validation data.__"
      ]
    },
    {
      "cell_type": "code",
      "execution_count": 23,
      "metadata": {
        "collapsed": true,
        "id": "mx5P6XMn2CPu",
        "colab": {
          "base_uri": "https://localhost:8080/"
        },
        "outputId": "cda6f6ee-9dc3-4543-80d5-def6e9846d8d"
      },
      "outputs": [
        {
          "output_type": "stream",
          "name": "stdout",
          "text": [
            "Sub-train data size: 9369\n",
            "Validation data size: 2343\n",
            "Test data size: 2928\n"
          ]
        }
      ],
      "source": [
        "# Your code goes here\n",
        "train_data, test_data = train_test_split(df, test_size=0.2, random_state=42)\n",
        "sub_train_data, val_data = train_test_split(train_data, test_size=0.2, random_state=42)\n",
        "y_train = sub_train_data['is_customer_service_issue'].to_numpy()\n",
        "y_val = val_data['is_customer_service_issue'].to_numpy()\n",
        "\n",
        "print(f\"Sub-train data size: {len(sub_train_data)}\")\n",
        "print(f\"Validation data size: {len(val_data)}\")\n",
        "print(f\"Test data size: {len(test_data)}\")"
      ]
    },
    {
      "cell_type": "markdown",
      "metadata": {
        "id": "z9tzAzX8QLKj"
      },
      "source": [
        "__4. Create and train a binary vector representation along with a TF-IDF representation of the words in each tweet. Then, use apply these vectorizors to create two representations of the training and validation set.__"
      ]
    },
    {
      "cell_type": "code",
      "execution_count": 24,
      "metadata": {
        "id": "KY-Iw82XQLKj",
        "colab": {
          "base_uri": "https://localhost:8080/"
        },
        "outputId": "c00115df-3713-4cf3-97e5-0a7b300a68dd"
      },
      "outputs": [
        {
          "output_type": "stream",
          "name": "stdout",
          "text": [
            "Binary Train Shape: (9369, 11697)\n",
            "TF-IDF Train Shape: (9369, 11697)\n",
            "Binary Validation Shape: (2343, 11697)\n",
            "TF-IDF Validation Shape: (2343, 11697)\n",
            "Sample Binary Vectorizer Features: ['00' '000' '000114' '000ft' '0011' '0016' '00a' '00am' '00p' '00pm']\n",
            "Sample TF-IDF Vectorizer Features: ['00' '000' '000114' '000ft' '0011' '0016' '00a' '00am' '00p' '00pm']\n"
          ]
        }
      ],
      "source": [
        "binary_vectorizer = CountVectorizer(binary=True)\n",
        "tfidf_vectorizer = TfidfVectorizer()\n",
        "\n",
        "#Your code goes here\n",
        "binary_train = binary_vectorizer.fit_transform(sub_train_data['text'])\n",
        "tfidf_train = tfidf_vectorizer.fit_transform(sub_train_data['text'])\n",
        "\n",
        "binary_val = binary_vectorizer.transform(val_data['text'])\n",
        "tfidf_val = tfidf_vectorizer.transform(val_data['text'])\n",
        "\n",
        "#printing\n",
        "print(\"Binary Train Shape:\", binary_train.shape)\n",
        "print(\"TF-IDF Train Shape:\", tfidf_train.shape)\n",
        "print(\"Binary Validation Shape:\", binary_val.shape)\n",
        "print(\"TF-IDF Validation Shape:\", tfidf_val.shape)\n",
        "print(\"Sample Binary Vectorizer Features:\", binary_vectorizer.get_feature_names_out()[:10])\n",
        "print(\"Sample TF-IDF Vectorizer Features:\", tfidf_vectorizer.get_feature_names_out()[:10])"
      ]
    },
    {
      "cell_type": "markdown",
      "metadata": {
        "id": "Yd1LLyU_2CPv"
      },
      "source": [
        "__5. Build 2 logistic regression models, one for each representation. For each of these, try different values for the hyperparameter C.__\n",
        "\n",
        "Try to optimize generalization performance, evaluated based on ROC Area on the validation set. Try looping over values of C for each model; in this loop train and evaluate + print the AUC. Report the best hyperparameter you found for the model for each representation (binary and TFIDF). Pick one model to move forward with for each representation Why did you select this one?\n",
        "\n"
      ]
    },
    {
      "cell_type": "code",
      "execution_count": 25,
      "metadata": {
        "collapsed": true,
        "id": "f4xmajqV2CPw",
        "colab": {
          "base_uri": "https://localhost:8080/"
        },
        "outputId": "3a62b84d-01e9-4390-8866-4f524f6e9bc3"
      },
      "outputs": [
        {
          "output_type": "stream",
          "name": "stdout",
          "text": [
            "\n",
            "Binary Vectorization Logistic Regression\n",
            "C=0.01: AUC=0.8603\n",
            "C=0.1: AUC=0.8820\n",
            "C=1: AUC=0.8741\n",
            "C=10: AUC=0.8498\n",
            "C=100: AUC=0.8254\n",
            "Best Binary Model: C=0.1, AUC=0.8820\n",
            "\n",
            "TF-IDF Vectorization Logistic Regression\n",
            "C=0.01: AUC=0.8561\n",
            "C=0.1: AUC=0.8688\n",
            "C=1: AUC=0.8824\n",
            "C=10: AUC=0.8735\n",
            "C=100: AUC=0.8478\n",
            "Best TF-IDF Model: C=1, AUC=0.8824\n"
          ]
        }
      ],
      "source": [
        "# Your code goes here\n",
        "C_values = [0.01, 0.1, 1, 10, 100]\n",
        "\n",
        "best_auc_binary = 0\n",
        "best_C_binary = None\n",
        "print(\"\\nBinary Vectorization Logistic Regression\")\n",
        "for C in C_values:\n",
        "    model = LogisticRegression(C=C, random_state=42, max_iter=1000)\n",
        "    model.fit(binary_train, sub_train_data['is_customer_service_issue'])\n",
        "    preds = model.predict_proba(binary_val)[:, 1]\n",
        "    auc = metrics.roc_auc_score(val_data['is_customer_service_issue'], preds)\n",
        "    print(f\"C={C}: AUC={auc:.4f}\")\n",
        "    if auc > best_auc_binary:\n",
        "        best_auc_binary = auc\n",
        "        best_C_binary = C\n",
        "\n",
        "print(f\"Best Binary Model: C={best_C_binary}, AUC={best_auc_binary:.4f}\")\n",
        "\n",
        "best_auc_tfidf = 0\n",
        "best_C_tfidf = None\n",
        "print(\"\\nTF-IDF Vectorization Logistic Regression\")\n",
        "for C in C_values:\n",
        "    model = LogisticRegression(C=C, random_state=42, max_iter=1000)\n",
        "    model.fit(tfidf_train, sub_train_data['is_customer_service_issue'])\n",
        "    preds = model.predict_proba(tfidf_val)[:, 1]\n",
        "    auc = metrics.roc_auc_score(val_data['is_customer_service_issue'], preds)\n",
        "    print(f\"C={C}: AUC={auc:.4f}\")\n",
        "    if auc > best_auc_tfidf:\n",
        "        best_auc_tfidf = auc\n",
        "        best_C_tfidf = C\n",
        "\n",
        "print(f\"Best TF-IDF Model: C={best_C_tfidf}, AUC={best_auc_tfidf:.4f}\")"
      ]
    },
    {
      "cell_type": "markdown",
      "metadata": {
        "id": "r9MWzvGh2CPy"
      },
      "source": [
        "__6. We will now try using a transformer embedding representations of text. This helps to capture the sequential dependencies of the text. The SentenceTransformers library enables easy embedding representations. Embed the training, validation, and test sets and store under a new variable name. We've started you with the training set. Print the dimensionality of the embeddings (using X_train_embeddings.shape[1]).__\n",
        "\n",
        "This might take a bit of time!"
      ]
    },
    {
      "cell_type": "code",
      "execution_count": 26,
      "metadata": {
        "id": "XK3DceCXQLKk"
      },
      "outputs": [],
      "source": [
        "# Install the necessary library\n",
        "!pip install -q sentence-transformers"
      ]
    },
    {
      "cell_type": "code",
      "execution_count": 27,
      "metadata": {
        "id": "eTB9g6uoQLKk",
        "colab": {
          "base_uri": "https://localhost:8080/"
        },
        "outputId": "8238c74d-405a-4ae0-e56b-83483c45df27"
      },
      "outputs": [
        {
          "output_type": "stream",
          "name": "stdout",
          "text": [
            "Embeddings shape: (9369, 384)\n",
            "Example embedding for the first sentence: [-8.44629779e-02 -3.94746140e-02  5.20697841e-03 -3.35111778e-04\n",
            "  4.83640516e-03 -6.01243302e-02  4.76734228e-02 -5.44093475e-02\n",
            " -4.24762964e-02  3.65229929e-03 -3.97134805e-04  4.03424911e-02\n",
            "  1.50119225e-02 -2.23821551e-02 -1.71623696e-02 -4.19211201e-02\n",
            " -5.58235077e-03 -1.07233517e-01  7.82757811e-03 -1.60919596e-02\n",
            " -4.57161553e-02 -3.97995301e-02  5.63900033e-03  3.30961309e-02\n",
            " -1.98226366e-02 -3.04024611e-02  3.98921175e-03  1.67138744e-02\n",
            " -8.80032852e-02 -4.19328250e-02 -7.34902844e-02  2.56484449e-02\n",
            " -3.97526547e-02 -5.29568903e-02  6.48230240e-02 -4.98128794e-02\n",
            "  2.44382620e-02 -2.42588930e-02  5.41358255e-02 -3.04307491e-02\n",
            "  2.78340117e-03  3.10967164e-03  2.36990582e-02  4.64712828e-02\n",
            " -4.45728041e-02  6.81848228e-02  2.12394092e-02 -1.18468562e-02\n",
            "  2.99585201e-02  6.27852371e-03 -7.29028089e-03  3.74464989e-02\n",
            "  2.95961425e-02  1.14608919e-02 -9.58440304e-02 -2.08622292e-02\n",
            " -5.52312657e-02 -3.61224376e-02  3.05831954e-02  2.50430405e-02\n",
            "  1.66981295e-02  3.38123068e-02  9.75968037e-03  3.75300981e-02\n",
            "  2.85223890e-02 -1.06083021e-01 -6.05383106e-02  1.34920459e-02\n",
            "  1.73105148e-03 -9.15132165e-02 -4.33468111e-02  4.38627638e-02\n",
            "  3.79540175e-02  1.88694790e-03  2.09519044e-02  7.79853910e-02\n",
            "  9.57731009e-02 -4.51747403e-02  1.96071882e-02  4.47778702e-02\n",
            " -7.90460333e-02 -6.19572289e-02  3.72134484e-02  6.90231994e-02\n",
            "  2.32766848e-02 -4.17826138e-03  6.96773380e-02 -1.61921419e-02\n",
            "  9.79010239e-02 -2.18970869e-02  1.35586392e-02  2.48943586e-02\n",
            "  5.05374894e-02 -4.09591794e-02 -8.27001557e-02 -6.23201542e-02\n",
            "  3.17629729e-03 -2.81074550e-02 -8.59474540e-02  5.42438775e-02\n",
            " -4.88744862e-02  6.78905174e-02 -4.85402755e-02  4.52846810e-02\n",
            "  3.40502672e-02  2.93996260e-02 -7.28750974e-02  5.32368943e-02\n",
            "  7.56661966e-02 -1.89552493e-02  2.53993738e-02  7.79270455e-02\n",
            " -1.00884354e-02 -2.88297329e-02 -5.41236624e-02 -4.21994403e-02\n",
            " -1.47366337e-02  3.94796394e-02  1.03945285e-01 -8.76072422e-02\n",
            " -3.50495428e-02  1.33984657e-02 -4.79050390e-02 -1.70951504e-02\n",
            " -5.19492105e-02 -1.93014573e-02  5.12269735e-02  1.55779799e-33\n",
            " -2.53201206e-03  1.29580364e-01  4.38576611e-03 -2.43461840e-02\n",
            "  4.75462601e-02  4.78076786e-02 -3.47397625e-02  4.78279516e-02\n",
            " -3.97917368e-02  7.15724379e-02 -1.31408170e-01  6.54106215e-02\n",
            "  3.63712646e-02 -1.05834659e-02 -8.58834013e-02 -3.82081941e-02\n",
            " -8.60604048e-02 -1.02019673e-02 -6.20566532e-02 -2.05043443e-02\n",
            " -4.61755767e-02  4.58095931e-02  9.86304507e-02  5.08051217e-02\n",
            " -9.26141627e-03  7.59608895e-02  1.17976684e-02  4.20976877e-02\n",
            "  7.59539977e-02  7.71441609e-02  2.34309640e-02 -9.09115225e-02\n",
            " -1.10261692e-02  1.78018361e-02 -3.19323083e-03 -7.82812852e-03\n",
            " -9.37781185e-02 -5.08583449e-02  3.19008119e-02  3.49223986e-02\n",
            "  4.10889536e-02  4.75466959e-02  6.42559230e-02  3.26554547e-03\n",
            " -1.84328452e-01  3.88807058e-02  2.42087487e-02  4.12553549e-02\n",
            "  8.82187188e-02  9.09871701e-03 -1.41208157e-01 -2.01826729e-02\n",
            " -3.44325043e-02  5.24323657e-02 -4.82625812e-02 -1.21429861e-01\n",
            "  9.86688882e-02  2.18676981e-02  3.32392380e-02 -2.20249277e-02\n",
            "  5.46541922e-02  3.32525074e-02 -1.54483309e-02 -1.03933223e-01\n",
            " -2.80009061e-02 -7.50139430e-02  3.68550746e-03 -6.39083562e-03\n",
            " -1.50297862e-02 -5.77374846e-02  3.56575698e-02  2.84907036e-02\n",
            "  1.08388029e-01 -1.08146049e-01  1.03254328e-02 -1.26827005e-02\n",
            "  1.56247872e-03  1.36329168e-02  4.14242670e-02  3.51902582e-02\n",
            "  5.11601344e-02 -2.46961284e-02 -2.29657218e-02 -1.03673832e-02\n",
            "  3.06353737e-02 -3.28823738e-02 -2.38962919e-02 -1.51517577e-02\n",
            "  5.64232981e-03  4.60691340e-02 -3.15126255e-02 -3.43291648e-02\n",
            "  7.25227296e-02  6.18398823e-02 -1.35582192e-02 -1.58532495e-33\n",
            "  3.08685098e-02 -2.13749371e-02  3.87109630e-02  2.73278598e-02\n",
            "  1.05523644e-02 -4.80712838e-02  3.56697291e-02  8.00912753e-02\n",
            " -1.57534610e-02 -2.32226104e-02  2.61065010e-02  2.03788690e-02\n",
            " -3.78073938e-02  7.59598836e-02 -4.07554172e-02  3.15404423e-02\n",
            "  7.39327893e-02  2.91461572e-02 -7.07099065e-02 -8.27474818e-02\n",
            " -6.38216659e-02  1.82483774e-02 -5.26037291e-02  8.30926821e-02\n",
            "  3.03955912e-03  4.04683687e-02  9.04956236e-02  2.46738326e-02\n",
            " -1.56868510e-02 -7.47924820e-02 -5.55211902e-02  4.09262441e-03\n",
            " -8.81179944e-02  1.21223651e-01  4.58127670e-02  1.09356025e-03\n",
            "  6.03270046e-02  8.18220526e-02 -1.48328347e-02  3.67508829e-02\n",
            "  3.59973870e-02 -1.72237828e-02  7.20066065e-03  1.24356255e-01\n",
            " -5.62938564e-02 -8.23328644e-03 -1.07374834e-02 -2.08916180e-02\n",
            " -5.80171011e-02  1.38658702e-01 -8.81709275e-04 -1.06938235e-01\n",
            "  5.25477119e-02 -2.33412646e-02 -3.27346995e-02 -2.50389837e-02\n",
            "  5.77108786e-02  5.66377081e-02  1.36658130e-02 -3.71650383e-02\n",
            "  4.97776680e-02  2.72613484e-04 -9.81209427e-03  3.30690295e-02\n",
            "  1.56711508e-02  2.63475683e-02  1.65273435e-02 -1.98257454e-02\n",
            " -8.90224054e-03  9.39147640e-03  1.87979285e-02 -4.76184264e-02\n",
            "  2.49411520e-02 -5.97554035e-02  1.80813354e-02 -2.26402991e-02\n",
            "  4.32400592e-02 -1.26612306e-01 -2.73003932e-02 -2.87127569e-02\n",
            " -2.03926442e-03 -8.15007389e-02  1.60967465e-02  2.76537985e-02\n",
            "  5.45299053e-02  6.84965104e-02  6.56799972e-02  1.71654299e-02\n",
            " -6.10775454e-03  3.56530324e-02  2.33988445e-02  6.91599548e-02\n",
            "  2.99671609e-02  1.48986233e-02  2.58578435e-02 -2.69224625e-08\n",
            "  4.16957811e-02 -1.43609950e-02  2.91111730e-02  8.70332941e-02\n",
            "  7.26708025e-02 -7.31303683e-03 -7.80314114e-03  6.11953530e-03\n",
            " -9.80727896e-02  8.73060990e-03  3.61209996e-02  6.08033538e-02\n",
            "  1.73755419e-02 -1.46832911e-03  7.27808028e-02 -1.13674505e-02\n",
            " -1.50520913e-02  2.80296393e-02 -6.29028911e-03 -5.84281869e-02\n",
            " -3.46413106e-02  1.60510112e-02  9.39359516e-02 -5.94046600e-02\n",
            " -1.21464143e-02  1.37905078e-02  1.79026965e-02  8.33344087e-02\n",
            "  5.74758425e-02 -6.14768416e-02 -2.69582476e-02  3.05719976e-03\n",
            " -5.10578863e-02 -7.27021545e-02 -2.54930742e-02 -2.95915492e-02\n",
            " -1.40737472e-02  4.03094105e-03  1.06656262e-04 -3.87728289e-02\n",
            " -4.47220579e-02 -3.59047987e-02 -1.02007590e-01  8.28236982e-04\n",
            " -1.10003622e-02  4.85350303e-02 -4.99509722e-02  2.88554430e-02\n",
            "  1.22158714e-02 -1.41244587e-02 -7.61718974e-02 -2.59962138e-02\n",
            "  3.07164174e-02  9.35403258e-02 -7.19506219e-02 -9.12590325e-02\n",
            " -2.42614746e-02 -6.07581846e-02  6.15839474e-02  4.22348790e-02\n",
            "  1.96581357e-03 -1.37232374e-02 -1.22615032e-01 -4.13015857e-02]\n",
            "Training embeddings shape: (9369, 384)\n",
            "Number of features in the training embeddings: 384\n",
            "Validation embeddings shape: (2343, 384)\n",
            "Number of features in the validation embeddings: 384\n",
            "Test embeddings shape: (2928, 384)\n",
            "Number of features in the test embeddings: 384\n",
            "Example training embedding for the first sentence: [-8.44629779e-02 -3.94746140e-02  5.20697841e-03 -3.35111778e-04\n",
            "  4.83640516e-03 -6.01243302e-02  4.76734228e-02 -5.44093475e-02\n",
            " -4.24762964e-02  3.65229929e-03 -3.97134805e-04  4.03424911e-02\n",
            "  1.50119225e-02 -2.23821551e-02 -1.71623696e-02 -4.19211201e-02\n",
            " -5.58235077e-03 -1.07233517e-01  7.82757811e-03 -1.60919596e-02\n",
            " -4.57161553e-02 -3.97995301e-02  5.63900033e-03  3.30961309e-02\n",
            " -1.98226366e-02 -3.04024611e-02  3.98921175e-03  1.67138744e-02\n",
            " -8.80032852e-02 -4.19328250e-02 -7.34902844e-02  2.56484449e-02\n",
            " -3.97526547e-02 -5.29568903e-02  6.48230240e-02 -4.98128794e-02\n",
            "  2.44382620e-02 -2.42588930e-02  5.41358255e-02 -3.04307491e-02\n",
            "  2.78340117e-03  3.10967164e-03  2.36990582e-02  4.64712828e-02\n",
            " -4.45728041e-02  6.81848228e-02  2.12394092e-02 -1.18468562e-02\n",
            "  2.99585201e-02  6.27852371e-03 -7.29028089e-03  3.74464989e-02\n",
            "  2.95961425e-02  1.14608919e-02 -9.58440304e-02 -2.08622292e-02\n",
            " -5.52312657e-02 -3.61224376e-02  3.05831954e-02  2.50430405e-02\n",
            "  1.66981295e-02  3.38123068e-02  9.75968037e-03  3.75300981e-02\n",
            "  2.85223890e-02 -1.06083021e-01 -6.05383106e-02  1.34920459e-02\n",
            "  1.73105148e-03 -9.15132165e-02 -4.33468111e-02  4.38627638e-02\n",
            "  3.79540175e-02  1.88694790e-03  2.09519044e-02  7.79853910e-02\n",
            "  9.57731009e-02 -4.51747403e-02  1.96071882e-02  4.47778702e-02\n",
            " -7.90460333e-02 -6.19572289e-02  3.72134484e-02  6.90231994e-02\n",
            "  2.32766848e-02 -4.17826138e-03  6.96773380e-02 -1.61921419e-02\n",
            "  9.79010239e-02 -2.18970869e-02  1.35586392e-02  2.48943586e-02\n",
            "  5.05374894e-02 -4.09591794e-02 -8.27001557e-02 -6.23201542e-02\n",
            "  3.17629729e-03 -2.81074550e-02 -8.59474540e-02  5.42438775e-02\n",
            " -4.88744862e-02  6.78905174e-02 -4.85402755e-02  4.52846810e-02\n",
            "  3.40502672e-02  2.93996260e-02 -7.28750974e-02  5.32368943e-02\n",
            "  7.56661966e-02 -1.89552493e-02  2.53993738e-02  7.79270455e-02\n",
            " -1.00884354e-02 -2.88297329e-02 -5.41236624e-02 -4.21994403e-02\n",
            " -1.47366337e-02  3.94796394e-02  1.03945285e-01 -8.76072422e-02\n",
            " -3.50495428e-02  1.33984657e-02 -4.79050390e-02 -1.70951504e-02\n",
            " -5.19492105e-02 -1.93014573e-02  5.12269735e-02  1.55779799e-33\n",
            " -2.53201206e-03  1.29580364e-01  4.38576611e-03 -2.43461840e-02\n",
            "  4.75462601e-02  4.78076786e-02 -3.47397625e-02  4.78279516e-02\n",
            " -3.97917368e-02  7.15724379e-02 -1.31408170e-01  6.54106215e-02\n",
            "  3.63712646e-02 -1.05834659e-02 -8.58834013e-02 -3.82081941e-02\n",
            " -8.60604048e-02 -1.02019673e-02 -6.20566532e-02 -2.05043443e-02\n",
            " -4.61755767e-02  4.58095931e-02  9.86304507e-02  5.08051217e-02\n",
            " -9.26141627e-03  7.59608895e-02  1.17976684e-02  4.20976877e-02\n",
            "  7.59539977e-02  7.71441609e-02  2.34309640e-02 -9.09115225e-02\n",
            " -1.10261692e-02  1.78018361e-02 -3.19323083e-03 -7.82812852e-03\n",
            " -9.37781185e-02 -5.08583449e-02  3.19008119e-02  3.49223986e-02\n",
            "  4.10889536e-02  4.75466959e-02  6.42559230e-02  3.26554547e-03\n",
            " -1.84328452e-01  3.88807058e-02  2.42087487e-02  4.12553549e-02\n",
            "  8.82187188e-02  9.09871701e-03 -1.41208157e-01 -2.01826729e-02\n",
            " -3.44325043e-02  5.24323657e-02 -4.82625812e-02 -1.21429861e-01\n",
            "  9.86688882e-02  2.18676981e-02  3.32392380e-02 -2.20249277e-02\n",
            "  5.46541922e-02  3.32525074e-02 -1.54483309e-02 -1.03933223e-01\n",
            " -2.80009061e-02 -7.50139430e-02  3.68550746e-03 -6.39083562e-03\n",
            " -1.50297862e-02 -5.77374846e-02  3.56575698e-02  2.84907036e-02\n",
            "  1.08388029e-01 -1.08146049e-01  1.03254328e-02 -1.26827005e-02\n",
            "  1.56247872e-03  1.36329168e-02  4.14242670e-02  3.51902582e-02\n",
            "  5.11601344e-02 -2.46961284e-02 -2.29657218e-02 -1.03673832e-02\n",
            "  3.06353737e-02 -3.28823738e-02 -2.38962919e-02 -1.51517577e-02\n",
            "  5.64232981e-03  4.60691340e-02 -3.15126255e-02 -3.43291648e-02\n",
            "  7.25227296e-02  6.18398823e-02 -1.35582192e-02 -1.58532495e-33\n",
            "  3.08685098e-02 -2.13749371e-02  3.87109630e-02  2.73278598e-02\n",
            "  1.05523644e-02 -4.80712838e-02  3.56697291e-02  8.00912753e-02\n",
            " -1.57534610e-02 -2.32226104e-02  2.61065010e-02  2.03788690e-02\n",
            " -3.78073938e-02  7.59598836e-02 -4.07554172e-02  3.15404423e-02\n",
            "  7.39327893e-02  2.91461572e-02 -7.07099065e-02 -8.27474818e-02\n",
            " -6.38216659e-02  1.82483774e-02 -5.26037291e-02  8.30926821e-02\n",
            "  3.03955912e-03  4.04683687e-02  9.04956236e-02  2.46738326e-02\n",
            " -1.56868510e-02 -7.47924820e-02 -5.55211902e-02  4.09262441e-03\n",
            " -8.81179944e-02  1.21223651e-01  4.58127670e-02  1.09356025e-03\n",
            "  6.03270046e-02  8.18220526e-02 -1.48328347e-02  3.67508829e-02\n",
            "  3.59973870e-02 -1.72237828e-02  7.20066065e-03  1.24356255e-01\n",
            " -5.62938564e-02 -8.23328644e-03 -1.07374834e-02 -2.08916180e-02\n",
            " -5.80171011e-02  1.38658702e-01 -8.81709275e-04 -1.06938235e-01\n",
            "  5.25477119e-02 -2.33412646e-02 -3.27346995e-02 -2.50389837e-02\n",
            "  5.77108786e-02  5.66377081e-02  1.36658130e-02 -3.71650383e-02\n",
            "  4.97776680e-02  2.72613484e-04 -9.81209427e-03  3.30690295e-02\n",
            "  1.56711508e-02  2.63475683e-02  1.65273435e-02 -1.98257454e-02\n",
            " -8.90224054e-03  9.39147640e-03  1.87979285e-02 -4.76184264e-02\n",
            "  2.49411520e-02 -5.97554035e-02  1.80813354e-02 -2.26402991e-02\n",
            "  4.32400592e-02 -1.26612306e-01 -2.73003932e-02 -2.87127569e-02\n",
            " -2.03926442e-03 -8.15007389e-02  1.60967465e-02  2.76537985e-02\n",
            "  5.45299053e-02  6.84965104e-02  6.56799972e-02  1.71654299e-02\n",
            " -6.10775454e-03  3.56530324e-02  2.33988445e-02  6.91599548e-02\n",
            "  2.99671609e-02  1.48986233e-02  2.58578435e-02 -2.69224625e-08\n",
            "  4.16957811e-02 -1.43609950e-02  2.91111730e-02  8.70332941e-02\n",
            "  7.26708025e-02 -7.31303683e-03 -7.80314114e-03  6.11953530e-03\n",
            " -9.80727896e-02  8.73060990e-03  3.61209996e-02  6.08033538e-02\n",
            "  1.73755419e-02 -1.46832911e-03  7.27808028e-02 -1.13674505e-02\n",
            " -1.50520913e-02  2.80296393e-02 -6.29028911e-03 -5.84281869e-02\n",
            " -3.46413106e-02  1.60510112e-02  9.39359516e-02 -5.94046600e-02\n",
            " -1.21464143e-02  1.37905078e-02  1.79026965e-02  8.33344087e-02\n",
            "  5.74758425e-02 -6.14768416e-02 -2.69582476e-02  3.05719976e-03\n",
            " -5.10578863e-02 -7.27021545e-02 -2.54930742e-02 -2.95915492e-02\n",
            " -1.40737472e-02  4.03094105e-03  1.06656262e-04 -3.87728289e-02\n",
            " -4.47220579e-02 -3.59047987e-02 -1.02007590e-01  8.28236982e-04\n",
            " -1.10003622e-02  4.85350303e-02 -4.99509722e-02  2.88554430e-02\n",
            "  1.22158714e-02 -1.41244587e-02 -7.61718974e-02 -2.59962138e-02\n",
            "  3.07164174e-02  9.35403258e-02 -7.19506219e-02 -9.12590325e-02\n",
            " -2.42614746e-02 -6.07581846e-02  6.15839474e-02  4.22348790e-02\n",
            "  1.96581357e-03 -1.37232374e-02 -1.22615032e-01 -4.13015857e-02]\n"
          ]
        }
      ],
      "source": [
        "# Import the SentenceTransformer class\n",
        "from sentence_transformers import SentenceTransformer\n",
        "\n",
        "# Load a pre-trained SentenceTransformer model\n",
        "# You can choose a model like 'all-MiniLM-L6-v2', 'paraphrase-MiniLM-L3-v2', etc.\n",
        "model_name = 'all-MiniLM-L6-v2'\n",
        "model = SentenceTransformer(model_name)\n",
        "\n",
        "# Compute embeddings for the training set with model.encode\n",
        "X_train_embeddings = model.encode(sub_train_data['text'].to_numpy())\n",
        "\n",
        "# Display the embeddings\n",
        "print(\"Embeddings shape:\", X_train_embeddings.shape)\n",
        "print(\"Example embedding for the first sentence:\", X_train_embeddings[0])\n",
        "\n",
        "#Your code goes here\n",
        "X_train_embeddings = model.encode(sub_train_data['text'].to_numpy())\n",
        "X_val_embeddings = model.encode(val_data['text'].to_numpy())\n",
        "X_test_embeddings = model.encode(test_data['text'].to_numpy())\n",
        "\n",
        "print(\"Training embeddings shape:\", X_train_embeddings.shape)\n",
        "print(\"Number of features in the training embeddings:\", X_train_embeddings.shape[1])\n",
        "print(\"Validation embeddings shape:\", X_val_embeddings.shape)\n",
        "print(\"Number of features in the validation embeddings:\", X_val_embeddings.shape[1])\n",
        "print(\"Test embeddings shape:\", X_test_embeddings.shape)\n",
        "print(\"Number of features in the test embeddings:\", X_test_embeddings.shape[1])\n",
        "print(\"Example training embedding for the first sentence:\", X_train_embeddings[0])"
      ]
    },
    {
      "cell_type": "markdown",
      "metadata": {
        "id": "Sv0X7yBmQLKk"
      },
      "source": [
        "__7. Build a logistic regression model using this new embedding representation as the features. Try different values for the hyperparameter C.__\n",
        "\n",
        "Try to optimize generalization performance, evaluated based on ROC Area on the validation set. Report the best hyperparameter you found. Pick one model to move forward with. Why did you select this one?"
      ]
    },
    {
      "cell_type": "code",
      "execution_count": 28,
      "metadata": {
        "id": "XBt6JsNuQLKk",
        "colab": {
          "base_uri": "https://localhost:8080/"
        },
        "outputId": "35daa79d-b613-4eff-e04a-65168aeed524"
      },
      "outputs": [
        {
          "output_type": "stream",
          "name": "stdout",
          "text": [
            "\n",
            "Logistic Regression on SentenceTransformer Embeddings\n",
            "C=0.01: AUC=0.8678\n",
            "C=0.1: AUC=0.8775\n",
            "C=1: AUC=0.8798\n",
            "C=10: AUC=0.8752\n",
            "C=100: AUC=0.8715\n",
            "Best model hyperparameter: C=1, AUC=0.8798\n"
          ]
        }
      ],
      "source": [
        "#Your code goes here\n",
        "C_values = [0.01, 0.1, 1, 10, 100]\n",
        "best_auc = 0\n",
        "best_C = None\n",
        "\n",
        "print(\"\\nLogistic Regression on SentenceTransformer Embeddings\")\n",
        "for C in C_values:\n",
        "    model = LogisticRegression(C=C, random_state=42, max_iter=1000)\n",
        "    model.fit(X_train_embeddings, sub_train_data['is_customer_service_issue'])\n",
        "    preds = model.predict_proba(X_val_embeddings)[:, 1]\n",
        "    auc = metrics.roc_auc_score(val_data['is_customer_service_issue'], preds)\n",
        "    print(f\"C={C}: AUC={auc:.4f}\")\n",
        "    if auc > best_auc:\n",
        "        best_auc = auc\n",
        "        best_C = C\n",
        "\n",
        "print(f\"Best model hyperparameter: C={best_C}, AUC={best_auc:.4f}\")"
      ]
    },
    {
      "cell_type": "markdown",
      "metadata": {
        "id": "d5QTooX42CPx"
      },
      "source": [
        "__8. Now, we will do a similar process for training a neural network. Try two other set-ups, then train and evaluate each set-up on the validation set. Try adding a layer, changing the width of internal (hidden) layers (i.e. not input or output layers), or changing the number of epochs. Report the AUC of each set-up.__\n",
        "\n",
        "__HINT: There is an example below of one architecture. Evaluate this performance with AUC on the validation set, then repeat this two more times with different network shapes.__"
      ]
    },
    {
      "cell_type": "code",
      "execution_count": 30,
      "metadata": {
        "id": "2AqOpFxp2CPx",
        "colab": {
          "base_uri": "https://localhost:8080/"
        },
        "outputId": "1d561353-13ed-47c1-82d8-a98a130d539e"
      },
      "outputs": [
        {
          "output_type": "stream",
          "name": "stdout",
          "text": [
            "Epoch 1/10\n",
            "\u001b[1m293/293\u001b[0m \u001b[32m━━━━━━━━━━━━━━━━━━━━\u001b[0m\u001b[37m\u001b[0m \u001b[1m8s\u001b[0m 7ms/step - accuracy: 0.8106 - loss: 0.4543 - val_accuracy: 0.8762 - val_loss: 0.3069\n",
            "Epoch 2/10\n",
            "\u001b[1m293/293\u001b[0m \u001b[32m━━━━━━━━━━━━━━━━━━━━\u001b[0m\u001b[37m\u001b[0m \u001b[1m2s\u001b[0m 5ms/step - accuracy: 0.8675 - loss: 0.3192 - val_accuracy: 0.8749 - val_loss: 0.3150\n",
            "Epoch 3/10\n",
            "\u001b[1m293/293\u001b[0m \u001b[32m━━━━━━━━━━━━━━━━━━━━\u001b[0m\u001b[37m\u001b[0m \u001b[1m1s\u001b[0m 3ms/step - accuracy: 0.8761 - loss: 0.3045 - val_accuracy: 0.8839 - val_loss: 0.2947\n",
            "Epoch 4/10\n",
            "\u001b[1m293/293\u001b[0m \u001b[32m━━━━━━━━━━━━━━━━━━━━\u001b[0m\u001b[37m\u001b[0m \u001b[1m1s\u001b[0m 3ms/step - accuracy: 0.8797 - loss: 0.2942 - val_accuracy: 0.8801 - val_loss: 0.3043\n",
            "Epoch 5/10\n",
            "\u001b[1m293/293\u001b[0m \u001b[32m━━━━━━━━━━━━━━━━━━━━\u001b[0m\u001b[37m\u001b[0m \u001b[1m1s\u001b[0m 3ms/step - accuracy: 0.8831 - loss: 0.2881 - val_accuracy: 0.8848 - val_loss: 0.2957\n",
            "Epoch 6/10\n",
            "\u001b[1m293/293\u001b[0m \u001b[32m━━━━━━━━━━━━━━━━━━━━\u001b[0m\u001b[37m\u001b[0m \u001b[1m1s\u001b[0m 3ms/step - accuracy: 0.8929 - loss: 0.2739 - val_accuracy: 0.8805 - val_loss: 0.2974\n",
            "Epoch 7/10\n",
            "\u001b[1m293/293\u001b[0m \u001b[32m━━━━━━━━━━━━━━━━━━━━\u001b[0m\u001b[37m\u001b[0m \u001b[1m1s\u001b[0m 3ms/step - accuracy: 0.8927 - loss: 0.2647 - val_accuracy: 0.8860 - val_loss: 0.2979\n",
            "Epoch 8/10\n",
            "\u001b[1m293/293\u001b[0m \u001b[32m━━━━━━━━━━━━━━━━━━━━\u001b[0m\u001b[37m\u001b[0m \u001b[1m1s\u001b[0m 3ms/step - accuracy: 0.8958 - loss: 0.2622 - val_accuracy: 0.8694 - val_loss: 0.3224\n",
            "Epoch 9/10\n",
            "\u001b[1m293/293\u001b[0m \u001b[32m━━━━━━━━━━━━━━━━━━━━\u001b[0m\u001b[37m\u001b[0m \u001b[1m1s\u001b[0m 4ms/step - accuracy: 0.9019 - loss: 0.2491 - val_accuracy: 0.8762 - val_loss: 0.3031\n",
            "Epoch 10/10\n",
            "\u001b[1m293/293\u001b[0m \u001b[32m━━━━━━━━━━━━━━━━━━━━\u001b[0m\u001b[37m\u001b[0m \u001b[1m2s\u001b[0m 3ms/step - accuracy: 0.9046 - loss: 0.2404 - val_accuracy: 0.8801 - val_loss: 0.3036\n",
            "\u001b[1m74/74\u001b[0m \u001b[32m━━━━━━━━━━━━━━━━━━━━\u001b[0m\u001b[37m\u001b[0m \u001b[1m0s\u001b[0m 2ms/step\n",
            "Configuration: Hidden Units=64, Epochs=10 -> AUC=0.8843\n",
            "Epoch 1/10\n",
            "\u001b[1m293/293\u001b[0m \u001b[32m━━━━━━━━━━━━━━━━━━━━\u001b[0m\u001b[37m\u001b[0m \u001b[1m2s\u001b[0m 3ms/step - accuracy: 0.7952 - loss: 0.4604 - val_accuracy: 0.8749 - val_loss: 0.3119\n",
            "Epoch 2/10\n",
            "\u001b[1m293/293\u001b[0m \u001b[32m━━━━━━━━━━━━━━━━━━━━\u001b[0m\u001b[37m\u001b[0m \u001b[1m1s\u001b[0m 3ms/step - accuracy: 0.8675 - loss: 0.3156 - val_accuracy: 0.8839 - val_loss: 0.2985\n",
            "Epoch 3/10\n",
            "\u001b[1m293/293\u001b[0m \u001b[32m━━━━━━━━━━━━━━━━━━━━\u001b[0m\u001b[37m\u001b[0m \u001b[1m1s\u001b[0m 3ms/step - accuracy: 0.8755 - loss: 0.3029 - val_accuracy: 0.8801 - val_loss: 0.3038\n",
            "Epoch 4/10\n",
            "\u001b[1m293/293\u001b[0m \u001b[32m━━━━━━━━━━━━━━━━━━━━\u001b[0m\u001b[37m\u001b[0m \u001b[1m1s\u001b[0m 3ms/step - accuracy: 0.8829 - loss: 0.2847 - val_accuracy: 0.8886 - val_loss: 0.2961\n",
            "Epoch 5/10\n",
            "\u001b[1m293/293\u001b[0m \u001b[32m━━━━━━━━━━━━━━━━━━━━\u001b[0m\u001b[37m\u001b[0m \u001b[1m1s\u001b[0m 3ms/step - accuracy: 0.8809 - loss: 0.2895 - val_accuracy: 0.8835 - val_loss: 0.2956\n",
            "Epoch 6/10\n",
            "\u001b[1m293/293\u001b[0m \u001b[32m━━━━━━━━━━━━━━━━━━━━\u001b[0m\u001b[37m\u001b[0m \u001b[1m1s\u001b[0m 3ms/step - accuracy: 0.8924 - loss: 0.2713 - val_accuracy: 0.8826 - val_loss: 0.2959\n",
            "Epoch 7/10\n",
            "\u001b[1m293/293\u001b[0m \u001b[32m━━━━━━━━━━━━━━━━━━━━\u001b[0m\u001b[37m\u001b[0m \u001b[1m1s\u001b[0m 3ms/step - accuracy: 0.8896 - loss: 0.2766 - val_accuracy: 0.8843 - val_loss: 0.3012\n",
            "Epoch 8/10\n",
            "\u001b[1m293/293\u001b[0m \u001b[32m━━━━━━━━━━━━━━━━━━━━\u001b[0m\u001b[37m\u001b[0m \u001b[1m2s\u001b[0m 4ms/step - accuracy: 0.8996 - loss: 0.2573 - val_accuracy: 0.8839 - val_loss: 0.2965\n",
            "Epoch 9/10\n",
            "\u001b[1m293/293\u001b[0m \u001b[32m━━━━━━━━━━━━━━━━━━━━\u001b[0m\u001b[37m\u001b[0m \u001b[1m1s\u001b[0m 5ms/step - accuracy: 0.8970 - loss: 0.2559 - val_accuracy: 0.8813 - val_loss: 0.2978\n",
            "Epoch 10/10\n",
            "\u001b[1m293/293\u001b[0m \u001b[32m━━━━━━━━━━━━━━━━━━━━\u001b[0m\u001b[37m\u001b[0m \u001b[1m1s\u001b[0m 3ms/step - accuracy: 0.9025 - loss: 0.2415 - val_accuracy: 0.8762 - val_loss: 0.3058\n",
            "\u001b[1m74/74\u001b[0m \u001b[32m━━━━━━━━━━━━━━━━━━━━\u001b[0m\u001b[37m\u001b[0m \u001b[1m0s\u001b[0m 2ms/step\n",
            "Configuration: Hidden Units=128, Epochs=15 -> AUC=0.8840\n",
            "Epoch 1/10\n",
            "\u001b[1m293/293\u001b[0m \u001b[32m━━━━━━━━━━━━━━━━━━━━\u001b[0m\u001b[37m\u001b[0m \u001b[1m2s\u001b[0m 4ms/step - accuracy: 0.8222 - loss: 0.4417 - val_accuracy: 0.8784 - val_loss: 0.3024\n",
            "Epoch 2/10\n",
            "\u001b[1m293/293\u001b[0m \u001b[32m━━━━━━━━━━━━━━━━━━━━\u001b[0m\u001b[37m\u001b[0m \u001b[1m1s\u001b[0m 3ms/step - accuracy: 0.8671 - loss: 0.3180 - val_accuracy: 0.8775 - val_loss: 0.3084\n",
            "Epoch 3/10\n",
            "\u001b[1m293/293\u001b[0m \u001b[32m━━━━━━━━━━━━━━━━━━━━\u001b[0m\u001b[37m\u001b[0m \u001b[1m1s\u001b[0m 3ms/step - accuracy: 0.8795 - loss: 0.3001 - val_accuracy: 0.8865 - val_loss: 0.2946\n",
            "Epoch 4/10\n",
            "\u001b[1m293/293\u001b[0m \u001b[32m━━━━━━━━━━━━━━━━━━━━\u001b[0m\u001b[37m\u001b[0m \u001b[1m1s\u001b[0m 3ms/step - accuracy: 0.8780 - loss: 0.2925 - val_accuracy: 0.8822 - val_loss: 0.2947\n",
            "Epoch 5/10\n",
            "\u001b[1m293/293\u001b[0m \u001b[32m━━━━━━━━━━━━━━━━━━━━\u001b[0m\u001b[37m\u001b[0m \u001b[1m1s\u001b[0m 3ms/step - accuracy: 0.8832 - loss: 0.2882 - val_accuracy: 0.8826 - val_loss: 0.2955\n",
            "Epoch 6/10\n",
            "\u001b[1m293/293\u001b[0m \u001b[32m━━━━━━━━━━━━━━━━━━━━\u001b[0m\u001b[37m\u001b[0m \u001b[1m1s\u001b[0m 3ms/step - accuracy: 0.8884 - loss: 0.2743 - val_accuracy: 0.8831 - val_loss: 0.2954\n",
            "Epoch 7/10\n",
            "\u001b[1m293/293\u001b[0m \u001b[32m━━━━━━━━━━━━━━━━━━━━\u001b[0m\u001b[37m\u001b[0m \u001b[1m1s\u001b[0m 3ms/step - accuracy: 0.8855 - loss: 0.2753 - val_accuracy: 0.8835 - val_loss: 0.2962\n",
            "Epoch 8/10\n",
            "\u001b[1m293/293\u001b[0m \u001b[32m━━━━━━━━━━━━━━━━━━━━\u001b[0m\u001b[37m\u001b[0m \u001b[1m1s\u001b[0m 4ms/step - accuracy: 0.8961 - loss: 0.2548 - val_accuracy: 0.8792 - val_loss: 0.3029\n",
            "Epoch 9/10\n",
            "\u001b[1m293/293\u001b[0m \u001b[32m━━━━━━━━━━━━━━━━━━━━\u001b[0m\u001b[37m\u001b[0m \u001b[1m1s\u001b[0m 4ms/step - accuracy: 0.8999 - loss: 0.2520 - val_accuracy: 0.8732 - val_loss: 0.3161\n",
            "Epoch 10/10\n",
            "\u001b[1m293/293\u001b[0m \u001b[32m━━━━━━━━━━━━━━━━━━━━\u001b[0m\u001b[37m\u001b[0m \u001b[1m2s\u001b[0m 3ms/step - accuracy: 0.9064 - loss: 0.2407 - val_accuracy: 0.8779 - val_loss: 0.3016\n",
            "\u001b[1m74/74\u001b[0m \u001b[32m━━━━━━━━━━━━━━━━━━━━\u001b[0m\u001b[37m\u001b[0m \u001b[1m0s\u001b[0m 2ms/step\n",
            "Configuration: Hidden Units=256, Epochs=10 -> AUC=0.8830\n"
          ]
        }
      ],
      "source": [
        "import tensorflow as tf\n",
        "from tensorflow.keras import layers, models\n",
        "\n",
        "# Example input size (number of features from X_train_embeddings.shape[0])\n",
        "input_size = X_train_embeddings.shape[1]\n",
        "\n",
        "# Define a simple neural network model\n",
        "def train_and_evaluate_nn(hidden_units, epochs):\n",
        "  model = models.Sequential([\n",
        "    layers.Input(shape=(input_size,)),  # Input layer\n",
        "    layers.Dense(128, activation='relu'),  # Hidden layer with ReLU activation\n",
        "    layers.Dense(1, activation='sigmoid')  # Output layer with sigmoid for binary classification\n",
        "  ])\n",
        "\n",
        "  model.compile(optimizer='adam',\n",
        "              loss='binary_crossentropy',\n",
        "              metrics=['accuracy'])\n",
        "\n",
        "  history = model.fit(X_train_embeddings, y_train, epochs=10, validation_data=(X_val_embeddings, y_val))\n",
        "\n",
        "\n",
        "# Your code goes here\n",
        "  preds = model.predict(X_val_embeddings)\n",
        "  auc = metrics.roc_auc_score(y_val, preds)\n",
        "  return auc\n",
        "\n",
        "configurations = [{'hidden_units': 64, 'epochs': 10},{'hidden_units': 128, 'epochs': 15},{'hidden_units': 256, 'epochs': 10}]\n",
        "\n",
        "for config in configurations:\n",
        "    auc = train_and_evaluate_nn(config['hidden_units'], config['epochs'])\n",
        "    print(f\"Configuration: Hidden Units={config['hidden_units']}, Epochs={config['epochs']} -> AUC={auc:.4f}\")"
      ]
    },
    {
      "cell_type": "markdown",
      "metadata": {
        "id": "ehbUspyBQLKl"
      },
      "source": [
        "__9. Display one ROC curve and AUC figures for the following on the validation set. Plot all curves on a single graph:__\n",
        "* The best logistic regression model using a binary representation\n",
        "* The best logistic regression model using a TF-IDF representation\n",
        "* The best logistic regression model using a SentenceTransformers embedding representation\n",
        "* The best neural network using a SentenceTransformers embedding representation\n",
        "\n",
        "You may need to copy code from various sections above to retrain each model on the best hyperparameter.\n"
      ]
    },
    {
      "cell_type": "code",
      "execution_count": 35,
      "metadata": {
        "id": "Itft9s50QLKl",
        "colab": {
          "base_uri": "https://localhost:8080/",
          "height": 581
        },
        "outputId": "d3651344-9c03-4a68-c126-bfc6ef1f1f14"
      },
      "outputs": [
        {
          "output_type": "stream",
          "name": "stdout",
          "text": [
            "\u001b[1m74/74\u001b[0m \u001b[32m━━━━━━━━━━━━━━━━━━━━\u001b[0m\u001b[37m\u001b[0m \u001b[1m1s\u001b[0m 7ms/step\n"
          ]
        },
        {
          "output_type": "display_data",
          "data": {
            "text/plain": [
              "<Figure size 1000x600 with 1 Axes>"
            ],
            "image/png": "[encoded data removed]"
          },
          "metadata": {}
        }
      ],
      "source": [
        "#Your code goes here\n",
        "plt.figure(figsize=(10, 6))\n",
        "\n",
        "#Logistic regression with binary representation\n",
        "best_binary_model = LogisticRegression(C=0.1, random_state=42, max_iter=1000)\n",
        "best_binary_model.fit(binary_train, y_train)\n",
        "binary_preds = best_binary_model.predict_proba(binary_val)[:, 1]\n",
        "binary_fpr, binary_tpr, _ = metrics.roc_curve(y_val, binary_preds)\n",
        "binary_auc = metrics.roc_auc_score(y_val, binary_preds)\n",
        "plt.plot(binary_fpr, binary_tpr, label=f\"Binary Logistic Regression (AUC={binary_auc:.4f})\")\n",
        "\n",
        "#Logistic regression with TF-IDF representation\n",
        "best_tfidf_model = LogisticRegression(C=1, random_state=42, max_iter=1000)\n",
        "best_tfidf_model.fit(tfidf_train, y_train)\n",
        "tfidf_preds = best_tfidf_model.predict_proba(tfidf_val)[:, 1]\n",
        "tfidf_fpr, tfidf_tpr, _ = metrics.roc_curve(y_val, tfidf_preds)\n",
        "tfidf_auc = metrics.roc_auc_score(y_val, tfidf_preds)\n",
        "plt.plot(tfidf_fpr, tfidf_tpr, label=f\"TF-IDF Logistic Regression (AUC={tfidf_auc:.4f})\")\n",
        "\n",
        "#Logistic regression with SentenceTransformer embeddings\n",
        "best_embedding_model = LogisticRegression(C=1, random_state=42, max_iter=1000)\n",
        "best_embedding_model.fit(X_train_embeddings, y_train)\n",
        "embedding_preds = best_embedding_model.predict_proba(X_val_embeddings)[:, 1]\n",
        "embedding_fpr, embedding_tpr, _ = metrics.roc_curve(y_val, embedding_preds)\n",
        "embedding_auc = metrics.roc_auc_score(y_val, embedding_preds)\n",
        "plt.plot(embedding_fpr, embedding_tpr, label=f\"Embedding Logistic Regression (AUC={embedding_auc:.4f})\")\n",
        "\n",
        "#Neural network with SentenceTransformer embeddings\n",
        "nn_model = models.Sequential([layers.Input(shape=(X_train_embeddings.shape[1],)), layers.Dense(128, activation='relu'), layers.Dense(1, activation='sigmoid')])\n",
        "\n",
        "nn_model.compile(optimizer='adam', loss='binary_crossentropy', metrics=['accuracy'])\n",
        "\n",
        "nn_model.fit(X_train_embeddings, y_train, epochs=10, validation_data=(X_val_embeddings, y_val), verbose=0)\n",
        "nn_preds = nn_model.predict(X_val_embeddings)\n",
        "nn_fpr, nn_tpr, _ = metrics.roc_curve(y_val, nn_preds)\n",
        "nn_auc = metrics.roc_auc_score(y_val, nn_preds)\n",
        "plt.plot(nn_fpr, nn_tpr, label=f\"Neural Network (AUC={nn_auc:.4f})\")\n",
        "\n",
        "plt.title(\"ROC Curves for Validation Set\")\n",
        "plt.xlabel(\"False Positive Rate\")\n",
        "plt.ylabel(\"True Positive Rate\")\n",
        "plt.legend(loc=\"lower right\")\n",
        "plt.grid()\n",
        "plt.show()"
      ]
    },
    {
      "cell_type": "markdown",
      "metadata": {
        "id": "80fxGOw6QLKl"
      },
      "source": [
        "__10. Pick the best option from above, and graph the ROC curve with the AUC on our test set.__\n"
      ]
    },
    {
      "cell_type": "code",
      "execution_count": 34,
      "metadata": {
        "id": "NhHvfUkZQLKl",
        "colab": {
          "base_uri": "https://localhost:8080/",
          "height": 599
        },
        "outputId": "3cad8b2b-7424-40b6-c155-bbdf64aaaeb5"
      },
      "outputs": [
        {
          "output_type": "stream",
          "name": "stdout",
          "text": [
            "\u001b[1m92/92\u001b[0m \u001b[32m━━━━━━━━━━━━━━━━━━━━\u001b[0m\u001b[37m\u001b[0m \u001b[1m0s\u001b[0m 2ms/step\n"
          ]
        },
        {
          "output_type": "display_data",
          "data": {
            "text/plain": [
              "<Figure size 800x600 with 1 Axes>"
            ],
            "image/png": "[encoded data removed]"
          },
          "metadata": {}
        },
        {
          "output_type": "stream",
          "name": "stdout",
          "text": [
            "Test AUC for Neural Network: 0.8841\n"
          ]
        }
      ],
      "source": [
        "#Your code goes here\n",
        "\n",
        "plt.figure(figsize=(8, 6))\n",
        "\n",
        "best_nn_model = models.Sequential([layers.Input(shape=(X_train_embeddings.shape[1],)), layers.Dense(128, activation='relu'), layers.Dense(1, activation='sigmoid')\n",
        "])\n",
        "\n",
        "best_nn_model.compile(optimizer='adam',loss='binary_crossentropy', metrics=['accuracy'])\n",
        "\n",
        "best_nn_model.fit(X_train_embeddings, y_train, epochs=10, verbose=0)\n",
        "\n",
        "nn_test_preds = best_nn_model.predict(X_test_embeddings)\n",
        "nn_test_fpr, nn_test_tpr, _ = metrics.roc_curve(test_data['is_customer_service_issue'], nn_test_preds)\n",
        "nn_test_auc = metrics.roc_auc_score(test_data['is_customer_service_issue'], nn_test_preds)\n",
        "\n",
        "plt.plot(nn_test_fpr, nn_test_tpr, label=f\"Neural Network (Test AUC={nn_test_auc:.4f})\")\n",
        "plt.title(\"ROC Curve for Best Model on Test Set\")\n",
        "plt.xlabel(\"False Positive Rate\")\n",
        "plt.ylabel(\"True Positive Rate\")\n",
        "plt.legend(loc=\"lower right\")\n",
        "plt.grid()\n",
        "plt.show()\n",
        "\n",
        "print(f\"Test AUC for Neural Network: {nn_test_auc:.4f}\")"
      ]
    }
  ],
  "metadata": {
    "colab": {
      "provenance": []
    },
    "kernelspec": {
      "display_name": "Python 3",
      "language": "python",
      "name": "python3"
    },
    "language_info": {
      "codemirror_mode": {
        "name": "ipython",
        "version": 3
      },
      "file_extension": ".py",
      "mimetype": "text/x-python",
      "name": "python",
      "nbconvert_exporter": "python",
      "pygments_lexer": "ipython3",
      "version": "3.7.6"
    }
  },
  "nbformat": 4,
  "nbformat_minor": 0
}